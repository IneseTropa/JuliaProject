{
 "cells": [
  {
   "cell_type": "markdown",
   "metadata": {
    "tags": []
   },
   "source": [
    "# <center> Decision Tree Classification and Random Forest Classification with Julia"
   ]
  },
  {
   "cell_type": "markdown",
   "metadata": {
    "tags": []
   },
   "source": [
    "### <center> WIP"
   ]
  },
  {
   "cell_type": "markdown",
   "metadata": {},
   "source": [
    "#### Added Packages"
   ]
  },
  {
   "cell_type": "code",
   "execution_count": 5,
   "metadata": {},
   "outputs": [],
   "source": [
    "using DataFrames \n",
    "using CSV \n",
    "using DecisionTree"
   ]
  },
  {
   "cell_type": "markdown",
   "metadata": {},
   "source": [
    "<center>\n",
    "   <img src=\"https://github.com/VinitaSilaparasetty/decision-tree-julia/blob/main/types-of-glass.png?raw=true\" width=\"700\" height=\"700\">"
   ]
  },
  {
   "cell_type": "markdown",
   "metadata": {},
   "source": [
    "#### Load Data"
   ]
  },
  {
   "cell_type": "code",
   "execution_count": 7,
   "metadata": {
    "scrolled": true
   },
   "outputs": [
    {
     "data": {
      "text/html": [
       "<div class=\"data-frame\"><p>10 rows × 10 columns (omitted printing of 1 columns)</p><table class=\"data-frame\"><thead><tr><th></th><th>RI</th><th>Na</th><th>Mg</th><th>Al</th><th>Si</th><th>K</th><th>Ca</th><th>Ba</th><th>Fe</th></tr><tr><th></th><th title=\"Float64\">Float64</th><th title=\"Float64\">Float64</th><th title=\"Float64\">Float64</th><th title=\"Float64\">Float64</th><th title=\"Float64\">Float64</th><th title=\"Float64\">Float64</th><th title=\"Float64\">Float64</th><th title=\"Float64\">Float64</th><th title=\"Float64\">Float64</th></tr></thead><tbody><tr><th>1</th><td>1.52101</td><td>13.64</td><td>4.49</td><td>1.1</td><td>71.78</td><td>0.06</td><td>8.75</td><td>0.0</td><td>0.0</td></tr><tr><th>2</th><td>1.51761</td><td>13.89</td><td>3.6</td><td>1.36</td><td>72.73</td><td>0.48</td><td>7.83</td><td>0.0</td><td>0.0</td></tr><tr><th>3</th><td>1.51618</td><td>13.53</td><td>3.55</td><td>1.54</td><td>72.99</td><td>0.39</td><td>7.78</td><td>0.0</td><td>0.0</td></tr><tr><th>4</th><td>1.51766</td><td>13.21</td><td>3.69</td><td>1.29</td><td>72.61</td><td>0.57</td><td>8.22</td><td>0.0</td><td>0.0</td></tr><tr><th>5</th><td>1.51742</td><td>13.27</td><td>3.62</td><td>1.24</td><td>73.08</td><td>0.55</td><td>8.07</td><td>0.0</td><td>0.0</td></tr><tr><th>6</th><td>1.51596</td><td>12.79</td><td>3.61</td><td>1.62</td><td>72.97</td><td>0.64</td><td>8.07</td><td>0.0</td><td>0.26</td></tr><tr><th>7</th><td>1.51743</td><td>13.3</td><td>3.6</td><td>1.14</td><td>73.09</td><td>0.58</td><td>8.17</td><td>0.0</td><td>0.0</td></tr><tr><th>8</th><td>1.51756</td><td>13.15</td><td>3.61</td><td>1.05</td><td>73.24</td><td>0.57</td><td>8.24</td><td>0.0</td><td>0.0</td></tr><tr><th>9</th><td>1.51918</td><td>14.04</td><td>3.58</td><td>1.37</td><td>72.08</td><td>0.56</td><td>8.3</td><td>0.0</td><td>0.0</td></tr><tr><th>10</th><td>1.51755</td><td>13.0</td><td>3.6</td><td>1.36</td><td>72.99</td><td>0.57</td><td>8.4</td><td>0.0</td><td>0.11</td></tr></tbody></table></div>"
      ],
      "text/latex": [
       "\\begin{tabular}{r|cccccccccc}\n",
       "\t& RI & Na & Mg & Al & Si & K & Ca & Ba & Fe & \\\\\n",
       "\t\\hline\n",
       "\t& Float64 & Float64 & Float64 & Float64 & Float64 & Float64 & Float64 & Float64 & Float64 & \\\\\n",
       "\t\\hline\n",
       "\t1 & 1.52101 & 13.64 & 4.49 & 1.1 & 71.78 & 0.06 & 8.75 & 0.0 & 0.0 & $\\dots$ \\\\\n",
       "\t2 & 1.51761 & 13.89 & 3.6 & 1.36 & 72.73 & 0.48 & 7.83 & 0.0 & 0.0 & $\\dots$ \\\\\n",
       "\t3 & 1.51618 & 13.53 & 3.55 & 1.54 & 72.99 & 0.39 & 7.78 & 0.0 & 0.0 & $\\dots$ \\\\\n",
       "\t4 & 1.51766 & 13.21 & 3.69 & 1.29 & 72.61 & 0.57 & 8.22 & 0.0 & 0.0 & $\\dots$ \\\\\n",
       "\t5 & 1.51742 & 13.27 & 3.62 & 1.24 & 73.08 & 0.55 & 8.07 & 0.0 & 0.0 & $\\dots$ \\\\\n",
       "\t6 & 1.51596 & 12.79 & 3.61 & 1.62 & 72.97 & 0.64 & 8.07 & 0.0 & 0.26 & $\\dots$ \\\\\n",
       "\t7 & 1.51743 & 13.3 & 3.6 & 1.14 & 73.09 & 0.58 & 8.17 & 0.0 & 0.0 & $\\dots$ \\\\\n",
       "\t8 & 1.51756 & 13.15 & 3.61 & 1.05 & 73.24 & 0.57 & 8.24 & 0.0 & 0.0 & $\\dots$ \\\\\n",
       "\t9 & 1.51918 & 14.04 & 3.58 & 1.37 & 72.08 & 0.56 & 8.3 & 0.0 & 0.0 & $\\dots$ \\\\\n",
       "\t10 & 1.51755 & 13.0 & 3.6 & 1.36 & 72.99 & 0.57 & 8.4 & 0.0 & 0.11 & $\\dots$ \\\\\n",
       "\\end{tabular}\n"
      ],
      "text/plain": [
       "\u001b[1m10×10 DataFrame\u001b[0m\n",
       "\u001b[1m Row \u001b[0m│\u001b[1m RI      \u001b[0m\u001b[1m Na      \u001b[0m\u001b[1m Mg      \u001b[0m\u001b[1m Al      \u001b[0m\u001b[1m Si      \u001b[0m\u001b[1m K       \u001b[0m\u001b[1m Ca      \u001b[0m\u001b[1m Ba      \u001b[0m\u001b[1m\u001b[0m ⋯\n",
       "\u001b[1m     \u001b[0m│\u001b[90m Float64 \u001b[0m\u001b[90m Float64 \u001b[0m\u001b[90m Float64 \u001b[0m\u001b[90m Float64 \u001b[0m\u001b[90m Float64 \u001b[0m\u001b[90m Float64 \u001b[0m\u001b[90m Float64 \u001b[0m\u001b[90m Float64 \u001b[0m\u001b[90m\u001b[0m ⋯\n",
       "─────┼──────────────────────────────────────────────────────────────────────────\n",
       "   1 │ 1.52101    13.64     4.49     1.1     71.78     0.06     8.75      0.0  ⋯\n",
       "   2 │ 1.51761    13.89     3.6      1.36    72.73     0.48     7.83      0.0\n",
       "   3 │ 1.51618    13.53     3.55     1.54    72.99     0.39     7.78      0.0\n",
       "   4 │ 1.51766    13.21     3.69     1.29    72.61     0.57     8.22      0.0\n",
       "   5 │ 1.51742    13.27     3.62     1.24    73.08     0.55     8.07      0.0  ⋯\n",
       "   6 │ 1.51596    12.79     3.61     1.62    72.97     0.64     8.07      0.0\n",
       "   7 │ 1.51743    13.3      3.6      1.14    73.09     0.58     8.17      0.0\n",
       "   8 │ 1.51756    13.15     3.61     1.05    73.24     0.57     8.24      0.0\n",
       "   9 │ 1.51918    14.04     3.58     1.37    72.08     0.56     8.3       0.0  ⋯\n",
       "  10 │ 1.51755    13.0      3.6      1.36    72.99     0.57     8.4       0.0\n",
       "\u001b[36m                                                               2 columns omitted\u001b[0m"
      ]
     },
     "execution_count": 7,
     "metadata": {},
     "output_type": "execute_result"
    }
   ],
   "source": [
    "df = CSV.read(download(\"https://raw.githubusercontent.com/VinitaSilaparasetty/decision-tree-julia/main/glass.csv\"),DataFrame)\n",
    "first(df,10)"
   ]
  },
  {
   "cell_type": "markdown",
   "metadata": {},
   "source": [
    "#### Summary Statistics"
   ]
  },
  {
   "cell_type": "code",
   "execution_count": 9,
   "metadata": {},
   "outputs": [
    {
     "data": {
      "text/html": [
       "<div class=\"data-frame\"><p>10 rows × 7 columns</p><table class=\"data-frame\"><thead><tr><th></th><th>variable</th><th>mean</th><th>min</th><th>median</th><th>max</th><th>nmissing</th><th>eltype</th></tr><tr><th></th><th title=\"Symbol\">Symbol</th><th title=\"Float64\">Float64</th><th title=\"Real\">Real</th><th title=\"Float64\">Float64</th><th title=\"Real\">Real</th><th title=\"Int64\">Int64</th><th title=\"DataType\">DataType</th></tr></thead><tbody><tr><th>1</th><td>RI</td><td>1.51837</td><td>1.51115</td><td>1.51768</td><td>1.53393</td><td>0</td><td>Float64</td></tr><tr><th>2</th><td>Na</td><td>13.4079</td><td>10.73</td><td>13.3</td><td>17.38</td><td>0</td><td>Float64</td></tr><tr><th>3</th><td>Mg</td><td>2.68453</td><td>0.0</td><td>3.48</td><td>4.49</td><td>0</td><td>Float64</td></tr><tr><th>4</th><td>Al</td><td>1.44491</td><td>0.29</td><td>1.36</td><td>3.5</td><td>0</td><td>Float64</td></tr><tr><th>5</th><td>Si</td><td>72.6509</td><td>69.81</td><td>72.79</td><td>75.41</td><td>0</td><td>Float64</td></tr><tr><th>6</th><td>K</td><td>0.497056</td><td>0.0</td><td>0.555</td><td>6.21</td><td>0</td><td>Float64</td></tr><tr><th>7</th><td>Ca</td><td>8.95696</td><td>5.43</td><td>8.6</td><td>16.19</td><td>0</td><td>Float64</td></tr><tr><th>8</th><td>Ba</td><td>0.175047</td><td>0.0</td><td>0.0</td><td>3.15</td><td>0</td><td>Float64</td></tr><tr><th>9</th><td>Fe</td><td>0.0570093</td><td>0.0</td><td>0.0</td><td>0.51</td><td>0</td><td>Float64</td></tr><tr><th>10</th><td>Type</td><td>2.78037</td><td>1</td><td>2.0</td><td>7</td><td>0</td><td>Int64</td></tr></tbody></table></div>"
      ],
      "text/latex": [
       "\\begin{tabular}{r|ccccccc}\n",
       "\t& variable & mean & min & median & max & nmissing & eltype\\\\\n",
       "\t\\hline\n",
       "\t& Symbol & Float64 & Real & Float64 & Real & Int64 & DataType\\\\\n",
       "\t\\hline\n",
       "\t1 & RI & 1.51837 & 1.51115 & 1.51768 & 1.53393 & 0 & Float64 \\\\\n",
       "\t2 & Na & 13.4079 & 10.73 & 13.3 & 17.38 & 0 & Float64 \\\\\n",
       "\t3 & Mg & 2.68453 & 0.0 & 3.48 & 4.49 & 0 & Float64 \\\\\n",
       "\t4 & Al & 1.44491 & 0.29 & 1.36 & 3.5 & 0 & Float64 \\\\\n",
       "\t5 & Si & 72.6509 & 69.81 & 72.79 & 75.41 & 0 & Float64 \\\\\n",
       "\t6 & K & 0.497056 & 0.0 & 0.555 & 6.21 & 0 & Float64 \\\\\n",
       "\t7 & Ca & 8.95696 & 5.43 & 8.6 & 16.19 & 0 & Float64 \\\\\n",
       "\t8 & Ba & 0.175047 & 0.0 & 0.0 & 3.15 & 0 & Float64 \\\\\n",
       "\t9 & Fe & 0.0570093 & 0.0 & 0.0 & 0.51 & 0 & Float64 \\\\\n",
       "\t10 & Type & 2.78037 & 1 & 2.0 & 7 & 0 & Int64 \\\\\n",
       "\\end{tabular}\n"
      ],
      "text/plain": [
       "\u001b[1m10×7 DataFrame\u001b[0m\n",
       "\u001b[1m Row \u001b[0m│\u001b[1m variable \u001b[0m\u001b[1m mean       \u001b[0m\u001b[1m min      \u001b[0m\u001b[1m median   \u001b[0m\u001b[1m max      \u001b[0m\u001b[1m nmissing \u001b[0m\u001b[1m eltype   \u001b[0m\n",
       "\u001b[1m     \u001b[0m│\u001b[90m Symbol   \u001b[0m\u001b[90m Float64    \u001b[0m\u001b[90m Real     \u001b[0m\u001b[90m Float64  \u001b[0m\u001b[90m Real     \u001b[0m\u001b[90m Int64    \u001b[0m\u001b[90m DataType \u001b[0m\n",
       "─────┼────────────────────────────────────────────────────────────────────────\n",
       "   1 │ RI         1.51837     1.51115   1.51768   1.53393         0  Float64\n",
       "   2 │ Na        13.4079     10.73     13.3      17.38            0  Float64\n",
       "   3 │ Mg         2.68453     0.0       3.48      4.49            0  Float64\n",
       "   4 │ Al         1.44491     0.29      1.36      3.5             0  Float64\n",
       "   5 │ Si        72.6509     69.81     72.79     75.41            0  Float64\n",
       "   6 │ K          0.497056    0.0       0.555     6.21            0  Float64\n",
       "   7 │ Ca         8.95696     5.43      8.6      16.19            0  Float64\n",
       "   8 │ Ba         0.175047    0.0       0.0       3.15            0  Float64\n",
       "   9 │ Fe         0.0570093   0.0       0.0       0.51            0  Float64\n",
       "  10 │ Type       2.78037     1         2.0       7               0  Int64"
      ]
     },
     "execution_count": 9,
     "metadata": {},
     "output_type": "execute_result"
    }
   ],
   "source": [
    "describe(df)"
   ]
  },
  {
   "cell_type": "markdown",
   "metadata": {},
   "source": [
    "#### Split Data"
   ]
  },
  {
   "cell_type": "code",
   "execution_count": 12,
   "metadata": {},
   "outputs": [
    {
     "data": {
      "text/plain": [
       "(\u001b[1m109×10 DataFrame\u001b[0m\n",
       "\u001b[1m Row \u001b[0m│\u001b[1m RI      \u001b[0m\u001b[1m Na      \u001b[0m\u001b[1m Mg      \u001b[0m\u001b[1m Al      \u001b[0m\u001b[1m Si      \u001b[0m\u001b[1m K       \u001b[0m\u001b[1m Ca      \u001b[0m\u001b[1m Ba      \u001b[0m\u001b[1m\u001b[0m ⋯\n",
       "\u001b[1m     \u001b[0m│\u001b[90m Float64 \u001b[0m\u001b[90m Float64 \u001b[0m\u001b[90m Float64 \u001b[0m\u001b[90m Float64 \u001b[0m\u001b[90m Float64 \u001b[0m\u001b[90m Float64 \u001b[0m\u001b[90m Float64 \u001b[0m\u001b[90m Float64 \u001b[0m\u001b[90m\u001b[0m ⋯\n",
       "─────┼──────────────────────────────────────────────────────────────────────────\n",
       "   1 │ 1.51761    13.89     3.6      1.36    72.73     0.48     7.83     0.0   ⋯\n",
       "   2 │ 1.51766    13.21     3.69     1.29    72.61     0.57     8.22     0.0\n",
       "   3 │ 1.51742    13.27     3.62     1.24    73.08     0.55     8.07     0.0\n",
       "   4 │ 1.51596    12.79     3.61     1.62    72.97     0.64     8.07     0.0\n",
       "   5 │ 1.51918    14.04     3.58     1.37    72.08     0.56     8.3      0.0   ⋯\n",
       "   6 │ 1.51763    12.8      3.66     1.27    73.01     0.6      8.56     0.0\n",
       "   7 │ 1.51748    12.86     3.56     1.27    73.21     0.54     8.38     0.0\n",
       "   8 │ 1.51911    13.9      3.73     1.18    72.12     0.06     8.89     0.0\n",
       "   9 │ 1.51735    13.02     3.54     1.69    72.73     0.54     8.44     0.0   ⋯\n",
       "  10 │ 1.51966    14.77     3.75     0.29    72.02     0.03     9.0      0.0\n",
       "  11 │ 1.51736    12.78     3.62     1.29    72.79     0.59     8.7      0.0\n",
       "  ⋮  │    ⋮        ⋮        ⋮        ⋮        ⋮        ⋮        ⋮        ⋮     ⋱\n",
       " 100 │ 1.51602    14.85     0.0      2.38    73.28     0.0      8.76     0.64\n",
       " 101 │ 1.51719    14.75     0.0      2.0     73.02     0.0      8.53     1.59  ⋯\n",
       " 102 │ 1.51683    14.56     0.0      1.98    73.29     0.0      8.52     1.57\n",
       " 103 │ 1.51727    14.7      0.0      2.34    73.28     0.0      8.95     0.66\n",
       " 104 │ 1.51508    15.15     0.0      2.25    73.5      0.0      8.34     0.63\n",
       " 105 │ 1.51514    14.85     0.0      2.42    73.72     0.0      8.39     0.56  ⋯\n",
       " 106 │ 1.51658    14.8      0.0      1.99    73.11     0.0      8.28     1.71\n",
       " 107 │ 1.51617    14.95     0.0      2.27    73.3      0.0      8.71     0.67\n",
       " 108 │ 1.51732    14.95     0.0      1.8     72.99     0.0      8.61     1.55\n",
       " 109 │ 1.51711    14.23     0.0      2.08    73.36     0.0      8.62     1.67  ⋯\n",
       "\u001b[36m                                                   2 columns and 88 rows omitted\u001b[0m, \u001b[1m105×10 DataFrame\u001b[0m\n",
       "\u001b[1m Row \u001b[0m│\u001b[1m RI      \u001b[0m\u001b[1m Na      \u001b[0m\u001b[1m Mg      \u001b[0m\u001b[1m Al      \u001b[0m\u001b[1m Si      \u001b[0m\u001b[1m K       \u001b[0m\u001b[1m Ca      \u001b[0m\u001b[1m Ba      \u001b[0m\u001b[1m\u001b[0m ⋯\n",
       "\u001b[1m     \u001b[0m│\u001b[90m Float64 \u001b[0m\u001b[90m Float64 \u001b[0m\u001b[90m Float64 \u001b[0m\u001b[90m Float64 \u001b[0m\u001b[90m Float64 \u001b[0m\u001b[90m Float64 \u001b[0m\u001b[90m Float64 \u001b[0m\u001b[90m Float64 \u001b[0m\u001b[90m\u001b[0m ⋯\n",
       "─────┼──────────────────────────────────────────────────────────────────────────\n",
       "   1 │ 1.52101    13.64     4.49     1.1     71.78     0.06     8.75     0.0   ⋯\n",
       "   2 │ 1.51618    13.53     3.55     1.54    72.99     0.39     7.78     0.0\n",
       "   3 │ 1.51743    13.3      3.6      1.14    73.09     0.58     8.17     0.0\n",
       "   4 │ 1.51756    13.15     3.61     1.05    73.24     0.57     8.24     0.0\n",
       "   5 │ 1.51755    13.0      3.6      1.36    72.99     0.57     8.4      0.0   ⋯\n",
       "   6 │ 1.51571    12.72     3.46     1.56    73.2      0.67     8.09     0.0\n",
       "   7 │ 1.51589    12.88     3.43     1.4     73.28     0.69     8.05     0.0\n",
       "   8 │ 1.51763    12.61     3.59     1.31    73.29     0.58     8.5      0.0\n",
       "   9 │ 1.51761    12.81     3.54     1.23    73.24     0.58     8.39     0.0   ⋯\n",
       "  10 │ 1.51784    12.68     3.67     1.16    73.11     0.61     8.7      0.0\n",
       "  11 │ 1.52196    14.36     3.85     0.89    71.36     0.15     9.15     0.0\n",
       "  ⋮  │    ⋮        ⋮        ⋮        ⋮        ⋮        ⋮        ⋮        ⋮     ⋱\n",
       "  96 │ 1.51531    14.38     0.0      2.66    73.1      0.04     9.08     0.64\n",
       "  97 │ 1.51609    15.01     0.0      2.51    73.05     0.05     8.83     0.53  ⋯\n",
       "  98 │ 1.51653    11.95     0.0      1.19    75.18     2.7      8.93     0.0\n",
       "  99 │ 1.51645    14.94     0.0      1.87    73.11     0.0      8.67     1.38\n",
       " 100 │ 1.51831    14.39     0.0      1.82    72.86     1.41     6.47     2.88\n",
       " 101 │ 1.5164     14.37     0.0      2.74    72.85     0.0      9.45     0.54  ⋯\n",
       " 102 │ 1.51623    14.14     0.0      2.88    72.61     0.08     9.18     1.06\n",
       " 103 │ 1.51685    14.92     0.0      1.99    73.06     0.0      8.4      1.59\n",
       " 104 │ 1.52065    14.36     0.0      2.02    73.42     0.0      8.44     1.64\n",
       " 105 │ 1.51651    14.38     0.0      1.94    73.61     0.0      8.48     1.57  ⋯\n",
       "\u001b[36m                                                   2 columns and 84 rows omitted\u001b[0m)"
      ]
     },
     "execution_count": 12,
     "metadata": {},
     "output_type": "execute_result"
    }
   ],
   "source": [
    "using Lathe.preprocess: TrainTestSplit\n",
    "train,test= TrainTestSplit(df,.50)"
   ]
  },
  {
   "cell_type": "markdown",
   "metadata": {},
   "source": [
    "#### Feature Selection"
   ]
  },
  {
   "cell_type": "code",
   "execution_count": 25,
   "metadata": {},
   "outputs": [
    {
     "ename": "LoadError",
     "evalue": "syntax: missing separator in array expression",
     "output_type": "error",
     "traceback": [
      "syntax: missing separator in array expression",
      "",
      "Stacktrace:",
      " [1] top-level scope",
      "   @ In[25]:1",
      " [2] eval",
      "   @ .\\boot.jl:373 [inlined]",
      " [3] include_string(mapexpr::typeof(REPL.softscope), mod::Module, code::String, filename::String)",
      "   @ Base .\\loading.jl:1196"
     ]
    }
   ],
   "source": [
    "features = Array(train[:,[:RI,:Na,:Mg, :Al, :Si,:K,:Ca,:Ba,:Fe]])\n",
    "labels = Array(train[:Type])\n",
    "features = float.(features)\n",
    "labels = float.(labels)"
   ]
  },
  {
   "cell_type": "code",
   "execution_count": 11,
   "metadata": {},
   "outputs": [
    {
     "name": "stderr",
     "output_type": "stream",
     "text": [
      "┌ Warning: `getindex(df::DataFrame, col_ind::ColumnIndex)` is deprecated, use `df[!, col_ind]` instead.\n",
      "│   caller = top-level scope at In[11]:2\n",
      "└ @ Core In[11]:2\n"
     ]
    },
    {
     "data": {
      "text/plain": [
       "102-element Array{Float64,1}:\n",
       " 1.0\n",
       " 1.0\n",
       " 1.0\n",
       " 1.0\n",
       " 1.0\n",
       " 1.0\n",
       " 1.0\n",
       " 1.0\n",
       " 1.0\n",
       " 1.0\n",
       " 1.0\n",
       " 1.0\n",
       " 1.0\n",
       " ⋮  \n",
       " 7.0\n",
       " 7.0\n",
       " 7.0\n",
       " 7.0\n",
       " 7.0\n",
       " 7.0\n",
       " 7.0\n",
       " 7.0\n",
       " 7.0\n",
       " 7.0\n",
       " 7.0\n",
       " 7.0"
      ]
     },
     "execution_count": 11,
     "metadata": {},
     "output_type": "execute_result"
    }
   ],
   "source": [
    "features1 = Array(test[:,[:RI,:Na,:Mg, :Al, :Si,:K,:Ca,:Ba,:Fe]])\n",
    "labels1 = Array(test[:Type])\n",
    "features1 = float.(features1)\n",
    "labels1 = float.(labels1)"
   ]
  },
  {
   "cell_type": "markdown",
   "metadata": {},
   "source": [
    "#### Stump"
   ]
  },
  {
   "cell_type": "markdown",
   "metadata": {},
   "source": [
    "<center>\n",
    "   <img src=\"https://raw.githubusercontent.com/VinitaSilaparasetty/decision-tree-julia/main/decision%20stump.png\" width=\"700\" height=\"700\">"
   ]
  },
  {
   "cell_type": "code",
   "execution_count": 14,
   "metadata": {},
   "outputs": [
    {
     "ename": "LoadError",
     "evalue": "UndefVarError: labels not defined",
     "output_type": "error",
     "traceback": [
      "UndefVarError: labels not defined",
      "",
      "Stacktrace:",
      " [1] top-level scope",
      "   @ In[14]:1",
      " [2] eval",
      "   @ .\\boot.jl:373 [inlined]",
      " [3] include_string(mapexpr::typeof(REPL.softscope), mod::Module, code::String, filename::String)",
      "   @ Base .\\loading.jl:1196"
     ]
    }
   ],
   "source": [
    "stump=build_stump(labels,features)\n",
    "print_tree(stump)"
   ]
  },
  {
   "cell_type": "code",
   "execution_count": 13,
   "metadata": {},
   "outputs": [
    {
     "name": "stdout",
     "output_type": "stream",
     "text": [
      "Feature 3, Threshold 2.7\n",
      "L-> 5.5 : 0/30\n",
      "R-> 1.8194444444444444 : 0/72\n"
     ]
    }
   ],
   "source": [
    "stump1=build_stump(labels1,features1)\n",
    "print_tree(stump1)"
   ]
  },
  {
   "cell_type": "markdown",
   "metadata": {},
   "source": [
    "#### Make Predictions"
   ]
  },
  {
   "cell_type": "code",
   "execution_count": 14,
   "metadata": {},
   "outputs": [
    {
     "data": {
      "text/plain": [
       "8×8 Array{Int32,2}:\n",
       " 0  38  0  0  0   0  0  0\n",
       " 0   0  0  0  0   0  0  0\n",
       " 0  34  0  0  0   7  0  0\n",
       " 0   8  0  0  0   0  0  0\n",
       " 0   0  0  0  0   7  0  0\n",
       " 0   0  0  0  0   0  0  0\n",
       " 0   0  0  0  0   6  0  0\n",
       " 0   1  0  0  0  11  0  0"
      ]
     },
     "metadata": {},
     "output_type": "display_data"
    },
    {
     "data": {
      "text/plain": [
       "Classes:  [1.0, 1.69136, 2.0, 3.0, 5.0, 5.22581, 6.0, 7.0]\n",
       "Matrix:   \n",
       "Accuracy: 0.0\n",
       "Kappa:    0.0"
      ]
     },
     "execution_count": 14,
     "metadata": {},
     "output_type": "execute_result"
    }
   ],
   "source": [
    "predictions=apply_tree(stump,features)\n",
    "confusion_matrix(labels,predictions)"
   ]
  },
  {
   "cell_type": "code",
   "execution_count": 15,
   "metadata": {},
   "outputs": [
    {
     "data": {
      "text/plain": [
       "8×8 Array{Int32,2}:\n",
       " 0  32  0  0  0   0  0  0\n",
       " 0   0  0  0  0   0  0  0\n",
       " 0  29  0  0  0   6  0  0\n",
       " 0   9  0  0  0   0  0  0\n",
       " 0   0  0  0  0   6  0  0\n",
       " 0   0  0  0  0   0  0  0\n",
       " 0   0  0  0  0   3  0  0\n",
       " 0   2  0  0  0  15  0  0"
      ]
     },
     "metadata": {},
     "output_type": "display_data"
    },
    {
     "data": {
      "text/plain": [
       "Classes:  [1.0, 1.81944, 2.0, 3.0, 5.0, 5.5, 6.0, 7.0]\n",
       "Matrix:   \n",
       "Accuracy: 0.0\n",
       "Kappa:    0.0"
      ]
     },
     "execution_count": 15,
     "metadata": {},
     "output_type": "execute_result"
    }
   ],
   "source": [
    "predictions1=apply_tree(stump1,features1)\n",
    "confusion_matrix(labels1,predictions1)"
   ]
  },
  {
   "cell_type": "markdown",
   "metadata": {},
   "source": [
    "### Decision Tree"
   ]
  },
  {
   "cell_type": "markdown",
   "metadata": {},
   "source": [
    "<center>\n",
    "   <img src=\"https://raw.githubusercontent.com/VinitaSilaparasetty/decision-tree-julia/main/treealgo.png\" width=\"700\" height=\"700\">"
   ]
  },
  {
   "cell_type": "code",
   "execution_count": 17,
   "metadata": {},
   "outputs": [
    {
     "name": "stdout",
     "output_type": "stream",
     "text": [
      "Feature 3, Threshold 2.56\n",
      "L-> Feature 7, Threshold 9.809999999999999\n",
      "    L-> Feature 8, Threshold 0.2\n",
      "        L-> 5.8 : 0/5\n",
      "        R-> 7.0 : 11/11\n",
      "    R-> Feature 1, Threshold 1.5242200000000001\n",
      "        L-> Feature 6, Threshold 0.385\n",
      "            L-> 5.4 : 0/5\n",
      "            R-> 3.8 : 0/5\n",
      "        R-> 2.0 : 5/5\n",
      "R-> Feature 4, Threshold 1.75\n",
      "    L-> Feature 1, Threshold 1.517155\n",
      "        L-> Feature 1, Threshold 1.51603\n",
      "            L-> 1.5714285714285714 : 0/7\n",
      "            R-> Feature 4, Threshold 1.3900000000000001\n",
      "                L-> 2.6 : 0/5\n",
      "                R-> 2.0 : 11/11\n",
      "        R-> Feature 1, Threshold 1.517965\n",
      "            L-> Feature 7, Threshold 8.725\n",
      "                L-> 1.0 : 17/17\n",
      "                R-> 1.6 : 0/5\n",
      "            R-> Feature 1, Threshold 1.5188\n",
      "                L-> Feature 4, Threshold 1.3250000000000002\n",
      "                    L-> 1.875 : 0/8\n",
      "                    R-> 2.2 : 0/5\n",
      "                R-> Feature 4, Threshold 0.7849999999999999\n",
      "                    L-> 1.8333333333333333 : 0/6\n",
      "                    R-> Feature 7, Threshold 9.469999999999999\n",
      "                        L-> 1.0 : 7/7\n",
      "                        R-> 1.2 : 0/5\n",
      "    R-> 3.2 : 0/5\n"
     ]
    },
    {
     "data": {
      "text/plain": [
       "16"
      ]
     },
     "execution_count": 17,
     "metadata": {},
     "output_type": "execute_result"
    }
   ],
   "source": [
    "tree=build_tree(labels,features)\n",
    "print_tree(tree)\n",
    "length(tree)"
   ]
  },
  {
   "cell_type": "code",
   "execution_count": 20,
   "metadata": {},
   "outputs": [
    {
     "name": "stdout",
     "output_type": "stream",
     "text": [
      "\n",
      "Fold 1\n",
      "Mean Squared Error:     1.1293939393939398\n",
      "Correlation Coeff:      0.8620656778783834\n",
      "Coeff of Determination: 0.674626984126984\n",
      "\n",
      "Fold 2\n",
      "Mean Squared Error:     2.071313131313131\n",
      "Correlation Coeff:      0.7290352322737252\n",
      "Coeff of Determination: 0.5078470517645777\n",
      "\n",
      "Fold 3\n",
      "Mean Squared Error:     0.5650568181818184\n",
      "Correlation Coeff:      0.8988134182145983\n",
      "Coeff of Determination: 0.8036701363962669\n",
      "\n",
      "Fold 4\n",
      "Mean Squared Error:     2.3894990723562155\n",
      "Correlation Coeff:      0.7819826115072803\n",
      "Coeff of Determination: 0.6050144976023196\n",
      "\n",
      "Fold 5\n",
      "Mean Squared Error:     0.8101136363636364\n",
      "Correlation Coeff:      0.835483450301134\n",
      "Coeff of Determination: 0.6461236462093862\n",
      "\n",
      "Mean Coeff of Determination: 0.6474564632199069\n"
     ]
    },
    {
     "data": {
      "text/plain": [
       "5-element Array{Float64,1}:\n",
       " 0.674626984126984 \n",
       " 0.5078470517645777\n",
       " 0.8036701363962669\n",
       " 0.6050144976023196\n",
       " 0.6461236462093862"
      ]
     },
     "execution_count": 20,
     "metadata": {},
     "output_type": "execute_result"
    }
   ],
   "source": [
    "accuracy=nfoldCV_tree(labels,features,5)"
   ]
  },
  {
   "cell_type": "code",
   "execution_count": 21,
   "metadata": {},
   "outputs": [
    {
     "data": {
      "text/plain": [
       "17×17 Array{Int32,2}:\n",
       " 16  3  2  2  4  3   1  1  0  0  0  0  0  0  0  0   0\n",
       "  0  0  0  0  0  0   0  0  0  0  0  0  0  0  0  0   0\n",
       "  0  0  0  0  0  0   0  0  0  0  0  0  0  0  0  0   0\n",
       "  0  0  0  0  0  0   0  0  0  0  0  0  0  0  0  0   0\n",
       "  0  0  0  0  0  0   0  0  0  0  0  0  0  0  0  0   0\n",
       "  0  0  0  0  0  0   0  0  0  0  0  0  0  0  0  0   0\n",
       "  3  0  5  1  0  4  11  2  2  0  3  0  0  3  0  0   1\n",
       "  0  0  0  0  0  0   0  0  0  0  0  0  0  0  0  0   0\n",
       "  0  0  0  0  0  0   0  0  0  0  0  0  0  0  0  0   0\n",
       "  2  1  0  2  0  0   0  0  4  0  0  0  0  0  0  0   0\n",
       "  0  0  0  0  0  0   0  0  0  0  0  0  0  0  0  0   0\n",
       "  0  0  0  0  0  0   0  0  0  0  0  0  0  0  0  0   0\n",
       "  0  0  0  0  0  0   0  0  0  0  1  2  0  1  1  0   1\n",
       "  0  0  0  0  0  0   0  0  0  0  0  0  0  0  0  0   0\n",
       "  0  0  0  0  0  0   0  0  0  0  0  0  0  0  0  0   0\n",
       "  0  0  0  0  0  0   0  0  0  0  0  0  0  1  2  0   0\n",
       "  1  0  0  0  0  0   0  0  0  0  1  0  0  0  2  0  13"
      ]
     },
     "metadata": {},
     "output_type": "display_data"
    },
    {
     "data": {
      "text/plain": [
       "Classes:  [1.0, 1.2, 1.57143, 1.6, 1.83333, 1.875, 2.0, 2.2, 2.6, 3.0, 3.2, 3.8, 5.0, 5.4, 5.8, 6.0, 7.0]\n",
       "Matrix:   \n",
       "Accuracy: 0.39215686274509803\n",
       "Kappa:    0.29927977839335185"
      ]
     },
     "execution_count": 21,
     "metadata": {},
     "output_type": "execute_result"
    }
   ],
   "source": [
    "preds=apply_tree(tree,features1)\n",
    "confusion_matrix(labels1,preds)"
   ]
  },
  {
   "cell_type": "markdown",
   "metadata": {},
   "source": [
    "### Pruning"
   ]
  },
  {
   "cell_type": "markdown",
   "metadata": {},
   "source": [
    "<center>\n",
    "   <img src=\"https://raw.githubusercontent.com/VinitaSilaparasetty/decision-tree-julia/main/Pruning.png\" width=\"700\" height=\"700\">"
   ]
  },
  {
   "cell_type": "code",
   "execution_count": 25,
   "metadata": {},
   "outputs": [
    {
     "name": "stdout",
     "output_type": "stream",
     "text": [
      "Feature 3, Threshold 2.56\n",
      "L-> Feature 7, Threshold 9.809999999999999\n",
      "    L-> Feature 8, Threshold 0.2\n",
      "        L-> 5.8 : 0/5\n",
      "        R-> 7.0 : 11/11\n",
      "    R-> Feature 1, Threshold 1.5242200000000001\n",
      "        L-> Feature 6, Threshold 0.385\n",
      "            L-> 5.4 : 0/5\n",
      "            R-> 3.8 : 0/5\n",
      "        R-> 2.0 : 5/5\n",
      "R-> Feature 4, Threshold 1.75\n",
      "    L-> Feature 1, Threshold 1.517155\n",
      "        L-> Feature 1, Threshold 1.51603\n",
      "            L-> 1.5714285714285714 : 0/7\n",
      "            R-> Feature 4, Threshold 1.3900000000000001\n",
      "                L-> 2.6 : 0/5\n",
      "                R-> 2.0 : 11/11\n",
      "        R-> Feature 1, Threshold 1.517965\n",
      "            L-> 1.0 : 20/22\n",
      "            R-> Feature 1, Threshold 1.5188\n",
      "                L-> Feature 4, Threshold 1.3250000000000002\n",
      "                    L-> 1.875 : 0/8\n",
      "                    R-> 2.2 : 0/5\n",
      "                R-> Feature 4, Threshold 0.7849999999999999\n",
      "                    L-> 1.8333333333333333 : 0/6\n",
      "                    R-> 1.0 : 11/12\n",
      "    R-> 3.2 : 0/5\n"
     ]
    },
    {
     "data": {
      "text/plain": [
       "14"
      ]
     },
     "execution_count": 25,
     "metadata": {},
     "output_type": "execute_result"
    }
   ],
   "source": [
    "tree_new=prune_tree(tree,0.9)\n",
    "print_tree(tree_new)\n",
    "length(tree_new)"
   ]
  },
  {
   "cell_type": "code",
   "execution_count": 26,
   "metadata": {},
   "outputs": [
    {
     "name": "stdout",
     "output_type": "stream",
     "text": [
      "\n",
      "Fold 1\n",
      "Mean Squared Error:     0.6201204333585286\n",
      "Correlation Coeff:      0.9224812171173306\n",
      "Coeff of Determination: 0.8491191159711609\n",
      "\n",
      "Fold 2\n",
      "Mean Squared Error:     2.919596749811036\n",
      "Correlation Coeff:      0.7190391781012991\n",
      "Coeff of Determination: 0.444943583686115\n",
      "\n",
      "Fold 3\n",
      "Mean Squared Error:     1.026125\n",
      "Correlation Coeff:      0.9071744968853013\n",
      "Coeff of Determination: 0.8095359628770302\n",
      "\n",
      "Fold 4\n",
      "Mean Squared Error:     1.8328520408163265\n",
      "Correlation Coeff:      0.7315344656159749\n",
      "Coeff of Determination: -0.06098526241176594\n",
      "\n",
      "Fold 5\n",
      "Mean Squared Error:     3.9539999999999997\n",
      "Correlation Coeff:      0.620543926753162\n",
      "Coeff of Determination: 0.3238135955536554\n",
      "\n",
      "Mean Coeff of Determination: 0.47328539913523926\n"
     ]
    },
    {
     "data": {
      "text/plain": [
       "5-element Array{Float64,1}:\n",
       "  0.8491191159711609 \n",
       "  0.444943583686115  \n",
       "  0.8095359628770302 \n",
       " -0.06098526241176594\n",
       "  0.3238135955536554 "
      ]
     },
     "execution_count": 26,
     "metadata": {},
     "output_type": "execute_result"
    }
   ],
   "source": [
    "preds1=apply_tree(tree_new,features1)\n",
    "accuracy1=nfoldCV_tree(labels1,features1,5)"
   ]
  },
  {
   "cell_type": "markdown",
   "metadata": {},
   "source": [
    "### Random Forest"
   ]
  },
  {
   "cell_type": "code",
   "execution_count": null,
   "metadata": {},
   "outputs": [],
   "source": []
  },
  {
   "cell_type": "code",
   "execution_count": null,
   "metadata": {},
   "outputs": [],
   "source": []
  }
 ],
 "metadata": {
  "kernelspec": {
   "display_name": "Julia 1.7.2",
   "language": "julia",
   "name": "julia-1.7"
  },
  "language_info": {
   "file_extension": ".jl",
   "mimetype": "application/julia",
   "name": "julia",
   "version": "1.7.2"
  }
 },
 "nbformat": 4,
 "nbformat_minor": 4
}
